{
 "cells": [
  {
   "cell_type": "code",
   "execution_count": 12,
   "metadata": {},
   "outputs": [],
   "source": [
    "sents= [[[1, 11, 50, 42, 30, 43, 71, 2], [1, 26, 37, 30, 49, 2], [1, 33, 44, 2], [1, 52, 34, 2], [1, 52, 30, 43, 49, 70, 2]], [[1, 6, 44, 42, 45, 50, 49, 34, 47, 71, 2], [1, 17, 30, 49, 50, 47, 30, 41, 2], [1, 41, 30, 43, 36, 50, 30, 36, 34, 2], [1, 45, 47, 44, 32, 34, 48, 48, 38, 43, 36, 69, 2]], [[1, 11, 50, 42, 30, 43, 71, 2], [1, 26, 37, 34, 43, 2], [1, 33, 44, 2], [1, 52, 34, 2], [1, 52, 30, 43, 49, 2], [1, 38, 49, 70, 2]], [[1, 6, 44, 42, 45, 50, 49, 34, 47, 71, 2], [1, 26, 37, 34, 43, 2], [1, 33, 44, 2], [1, 52, 34, 2], [1, 52, 30, 43, 49, 2], [1, 52, 37, 30, 49, 70, 2]]]\n",
    "\n",
    "char_pad_token='%';\n",
    "max_word_length = 21\n",
    "sents_padded = []\n",
    "for sent in sents:\n",
    "    for word in sent:\n",
    "        curr_word_len = len(word)\n",
    "        sents_padded.append(word[:max_word_length] + (max_word_length - curr_word_len) * [char_pad_token])"
   ]
  },
  {
   "cell_type": "code",
   "execution_count": 10,
   "metadata": {},
   "outputs": [
    {
     "data": {
      "text/plain": [
       "[1, 11, 50, 42, 30, 43, 71, 2]"
      ]
     },
     "execution_count": 10,
     "metadata": {},
     "output_type": "execute_result"
    }
   ],
   "source": [
    "sents[0][0]"
   ]
  },
  {
   "cell_type": "code",
   "execution_count": 13,
   "metadata": {},
   "outputs": [
    {
     "data": {
      "text/plain": [
       "'%'"
      ]
     },
     "execution_count": 13,
     "metadata": {},
     "output_type": "execute_result"
    }
   ],
   "source": [
    "char_pad_token"
   ]
  },
  {
   "cell_type": "code",
   "execution_count": 14,
   "metadata": {},
   "outputs": [
    {
     "data": {
      "text/plain": [
       "list"
      ]
     },
     "execution_count": 14,
     "metadata": {},
     "output_type": "execute_result"
    }
   ],
   "source": [
    "type(word)"
   ]
  },
  {
   "cell_type": "code",
   "execution_count": 15,
   "metadata": {},
   "outputs": [
    {
     "ename": "TypeError",
     "evalue": "can only concatenate list (not \"str\") to list",
     "output_type": "error",
     "traceback": [
      "\u001b[0;31m---------------------------------------------------------------------------\u001b[0m",
      "\u001b[0;31mTypeError\u001b[0m                                 Traceback (most recent call last)",
      "\u001b[0;32m<ipython-input-15-a5efe28b2b9e>\u001b[0m in \u001b[0;36m<module>\u001b[0;34m\u001b[0m\n\u001b[0;32m----> 1\u001b[0;31m \u001b[0mword\u001b[0m\u001b[0;34m+\u001b[0m\u001b[0mchar_pad_token\u001b[0m\u001b[0;34m\u001b[0m\u001b[0m\n\u001b[0m",
      "\u001b[0;31mTypeError\u001b[0m: can only concatenate list (not \"str\") to list"
     ]
    }
   ],
   "source": [
    "word+[char_pad_token]"
   ]
  }
 ],
 "metadata": {
  "kernelspec": {
   "display_name": "Python 3",
   "language": "python",
   "name": "python3"
  },
  "language_info": {
   "codemirror_mode": {
    "name": "ipython",
    "version": 3
   },
   "file_extension": ".py",
   "mimetype": "text/x-python",
   "name": "python",
   "nbconvert_exporter": "python",
   "pygments_lexer": "ipython3",
   "version": "3.5.2"
  }
 },
 "nbformat": 4,
 "nbformat_minor": 4
}
